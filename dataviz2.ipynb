{
 "cells": [
  {
   "cell_type": "code",
   "execution_count": 2,
   "id": "5af3173c",
   "metadata": {},
   "outputs": [
    {
     "name": "stdout",
     "output_type": "stream",
     "text": [
      "Extraction et renommage terminés !\n"
     ]
    }
   ],
   "source": [
    "import pandas as pd\n",
    "\n",
    "# Définissons les noms de colonnes selon la description\n",
    "col_names = [\n",
    "    \"geonameid\", \"nom\", \"asciiname\", \"alternatenames\", \"latitude\", \"longitude\",\n",
    "    \"classe_entites\", \"code_fonctionnalite\", \"code_pays\", \"cc2\",\n",
    "    \"code_admin1\", \"code_admin2\", \"code_admin3\", \"code_admin4\",\n",
    "    \"population\", \"altitude\", \"dem\", \"fuseau_horaire\", \"date_modification\"\n",
    "]\n",
    "\n",
    "# Chargeons le fichier .txt\n",
    "df = pd.read_csv(r\"C:\\mini_projet_data_analysis\\BF.txt\",\n",
    "                 sep=\"\\t\",\n",
    "                 header=None,\n",
    "                 names=col_names,\n",
    "                 engine=\"python\")\n",
    "\n",
    "# Extraction uniquement des colonnes souhaitées\n",
    "df_extract = df[[\"geonameid\", \"nom\", \"latitude\", \"longitude\"]]\n",
    "\n",
    "# Renommons les colonnes\n",
    "df_extract = df_extract.rename(columns={\n",
    "    \"geonameid\": \"ID\",\n",
    "    \"nom\": \"location_name\",\n",
    "    \"latitude\": \"lat\",\n",
    "    \"longitude\": \"long\"\n",
    "})\n",
    "\n",
    "# Sauvegardons dans un CSV\n",
    "df_extract.to_csv(r\"C:\\mini_projet_data_analysis\\burkina_location.csv\", index=False)\n",
    "\n",
    "print(\"Extraction et renommage terminés !\")"
   ]
  },
  {
   "cell_type": "code",
   "execution_count": 4,
   "id": "246ea8f2",
   "metadata": {},
   "outputs": [
    {
     "name": "stdout",
     "output_type": "stream",
     "text": [
      "Fichier gounghin.csv généré avec 10 lignes.\n"
     ]
    }
   ],
   "source": [
    "\n",
    "# Chargeons le fichier déjà généré\n",
    "df = pd.read_csv(r\"C:\\mini_projet_data_analysis\\burkina_location.csv\")\n",
    "\n",
    "# Filtrons les lignes où \"location_name\" contient \"gounghin\" \n",
    "df_gounghin = df[df[\"location_name\"].str.contains(\"gounghin\", case=False, na=False)]\n",
    "\n",
    "# Sauvegardons dans un nouveau CSV\n",
    "df_gounghin.to_csv(r\"C:\\mini_projet_data_analysis\\gounghin.csv\", index=False)\n",
    "\n",
    "print(\"Fichier gounghin.csv généré avec\", len(df_gounghin), \"lignes.\")"
   ]
  },
  {
   "cell_type": "code",
   "execution_count": 7,
   "id": "9ac46c4b",
   "metadata": {},
   "outputs": [
    {
     "name": "stdout",
     "output_type": "stream",
     "text": [
      "\n",
      "Sous-partie de la base de données (fichier burkina_location.csv),\n",
      "dont les noms commencent par une lettre entre 'A' et 'P', triés par ordre alphabétique :\n",
      "             ID location_name       lat     long\n",
      "10648   6913771        Abanda  15.06808 -0.59805\n",
      "10031   2363251        Abanga  13.32429  0.31151\n",
      "11093  11980339        Abassi  12.27728 -1.13662\n",
      "10601   6874881         Abaye  13.44080 -3.90190\n",
      "10028   2363248          Abra  13.75724 -1.47784\n",
      "...         ...           ...       ...      ...\n",
      "10111   2570015       Pézinga  12.05298 -1.47002\n",
      "3478    2356655            Pê  11.30000 -3.53333\n",
      "3279    2356453            Pô  12.30000 -2.61667\n",
      "3280    2356454            Pô  11.16972 -1.14500\n",
      "10394   6296406    Pô Airport  11.17854 -1.14498\n",
      "\n",
      "[8306 rows x 4 columns]\n",
      "\n",
      "Latitude et longitude minimales et leurs lieux correspondants\n",
      "Latitude minimale : 5.21609 → ['Komoé']\n",
      "Longitude minimale : -5.65968 → ['Banifing']\n",
      "\n",
      "Lieux dans la zone lat >= 11 et lon <= 0.5 :\n",
      "             ID location_name       lat     long\n",
      "5       2353158      Zyonguen  12.36667 -0.45000\n",
      "6       2353159     Zyiliwèlè  12.38333 -2.73333\n",
      "7       2353160        Zyanko  12.78333 -0.41667\n",
      "8       2353161         Zouta  13.14908 -1.28197\n",
      "9       2353162     Zourtenga  12.95741 -1.28745\n",
      "...         ...           ...       ...      ...\n",
      "11953  13494828     Tounougou  11.21462 -0.06965\n",
      "11954  13494829         Karmé  11.66346  0.08201\n",
      "11955  13494830     Damdamkom  11.14989  0.43655\n",
      "11956  13494831       Dazenré  11.43801  0.21293\n",
      "11957  13494832   Pogoyoaguen  11.44725  0.21074\n",
      "\n",
      "[9466 rows x 4 columns]\n"
     ]
    }
   ],
   "source": [
    "\n",
    "# Chargeons le fichier\n",
    "df = pd.read_csv(r\"C:\\mini_projet_data_analysis\\burkina_location.csv\")\n",
    "\n",
    "# Extraction des lignes dont la première lettre du nom est entre 'A' et 'P'\n",
    "df_AP = df[df[\"location_name\"].str[0].str.upper().between('A', 'P')]\n",
    "\n",
    "# Trions par ordre alphabétique du nom de lieu\n",
    "df_AP = df_AP.sort_values(by=\"location_name\", ascending=True)\n",
    "\n",
    "print(\"\\nSous-partie de la base de données (fichier burkina_location.csv),\")\n",
    "print(\"dont les noms commencent par une lettre entre 'A' et 'P', triés par ordre alphabétique :\")\n",
    "print(df_AP)\n",
    "\n",
    "# Identifions latitude et longitude minimales et leurs lieux correspondants\n",
    "lat_min = df_AP[\"lat\"].min()\n",
    "lat_min_name = df_AP.loc[df_AP[\"lat\"] == lat_min, \"location_name\"].tolist()\n",
    "\n",
    "lon_min = df_AP[\"long\"].min()\n",
    "lon_min_name = df_AP.loc[df_AP[\"long\"] == lon_min, \"location_name\"].tolist()\n",
    "\n",
    "print(\"\\nLatitude et longitude minimales et leurs lieux correspondants\")\n",
    "print(f\"Latitude minimale : {lat_min} → {lat_min_name}\")\n",
    "print(f\"Longitude minimale : {lon_min} → {lon_min_name}\")\n",
    "\n",
    "# Lieux dont (lat >= 11) et (lon <= 0.5)\n",
    "df_zone = df[(df[\"lat\"] >= 11) & (df[\"long\"] <= 0.5)]\n",
    "\n",
    "print(\"\\nLieux dans la zone lat >= 11 et lon <= 0.5 :\")\n",
    "print(df_zone)"
   ]
  },
  {
   "cell_type": "code",
   "execution_count": 8,
   "id": "b53617d8",
   "metadata": {},
   "outputs": [
    {
     "name": "stdout",
     "output_type": "stream",
     "text": [
      "Fichier Excel créé avec succès : C:\\mini_projet_data_analysis\\mini_projet.xlsx\n"
     ]
    }
   ],
   "source": [
    "\n",
    "# 5 – Création du fichier Excel avec deux feuilles\n",
    "excel_path = r\"C:\\mini_projet_data_analysis\\mini_projet.xlsx\"\n",
    "\n",
    "with pd.ExcelWriter(excel_path, engine='openpyxl') as writer:\n",
    "    df_gounghin.to_excel(writer, sheet_name='gounghin', index=False)\n",
    "    df_AP.to_excel(writer, sheet_name='A_to_P', index=False)\n",
    "\n",
    "print(f\"Fichier Excel créé avec succès : {excel_path}\")"
   ]
  }
 ],
 "metadata": {
  "kernelspec": {
   "display_name": "base",
   "language": "python",
   "name": "python3"
  },
  "language_info": {
   "codemirror_mode": {
    "name": "ipython",
    "version": 3
   },
   "file_extension": ".py",
   "mimetype": "text/x-python",
   "name": "python",
   "nbconvert_exporter": "python",
   "pygments_lexer": "ipython3",
   "version": "3.12.7"
  }
 },
 "nbformat": 4,
 "nbformat_minor": 5
}
